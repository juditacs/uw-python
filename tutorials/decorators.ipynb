{
 "cells": [
  {
   "cell_type": "markdown",
   "metadata": {
    "slideshow": {
     "slide_type": "slide"
    }
   },
   "source": [
    "# Decorators\n",
    "\n",
    "## ARK Meeting Tutorial\n",
    "\n",
    "### March 19, 2019\n",
    "\n",
    "#### Judit Ács"
   ]
  },
  {
   "cell_type": "markdown",
   "metadata": {
    "slideshow": {
     "slide_type": "slide"
    }
   },
   "source": [
    "## Let's create a greeter function\n",
    "\n",
    "- takes another function as a parameter\n",
    "- greets the caller before calling the function"
   ]
  },
  {
   "cell_type": "code",
   "execution_count": null,
   "metadata": {
    "slideshow": {
     "slide_type": "fragment"
    }
   },
   "outputs": [],
   "source": [
    "def greeter(func):\n",
    "    print(\"Hello\")\n",
    "    func()\n",
    "    \n",
    "def say_something():\n",
    "    print(\"Let's learn some Python.\")\n",
    "    \n",
    "greeter(say_something)\n",
    "# greeter(12)"
   ]
  },
  {
   "cell_type": "markdown",
   "metadata": {
    "slideshow": {
     "slide_type": "fragment"
    }
   },
   "source": [
    "## Functions are first class objects\n",
    "\n",
    "- they can be passed as arguments\n",
    "- they can be returned from other functions (example later)"
   ]
  },
  {
   "cell_type": "markdown",
   "metadata": {
    "slideshow": {
     "slide_type": "slide"
    }
   },
   "source": [
    "## Let's create a `count_predicate` function\n",
    "\n",
    "- takes a iterable and a predicate (yes-no function)\n",
    "- calls the predicate on each element\n",
    "- counts how many times it returns True\n",
    "- same as `std::count_if` in C++"
   ]
  },
  {
   "cell_type": "code",
   "execution_count": null,
   "metadata": {
    "slideshow": {
     "slide_type": "fragment"
    }
   },
   "outputs": [],
   "source": [
    "def count_predicate(predicate, iterable):\n",
    "    true_count = 0\n",
    "    for element in iterable:\n",
    "        if predicate(element) is True:\n",
    "            true_count += 1\n",
    "    return true_count"
   ]
  },
  {
   "cell_type": "markdown",
   "metadata": {
    "slideshow": {
     "slide_type": "fragment"
    }
   },
   "source": [
    "## Q. Can you write this function in fewer lines?"
   ]
  },
  {
   "cell_type": "code",
   "execution_count": null,
   "metadata": {},
   "outputs": [],
   "source": []
  },
  {
   "cell_type": "markdown",
   "metadata": {
    "slideshow": {
     "slide_type": "slide"
    }
   },
   "source": [
    "### The predicate parameter\n",
    "\n",
    "- it can be anything 'callable'"
   ]
  },
  {
   "cell_type": "markdown",
   "metadata": {
    "slideshow": {
     "slide_type": "fragment"
    }
   },
   "source": [
    "#### 1. function"
   ]
  },
  {
   "cell_type": "code",
   "execution_count": null,
   "metadata": {
    "slideshow": {
     "slide_type": "-"
    }
   },
   "outputs": [],
   "source": [
    "def is_even(number):\n",
    "    return number % 2 == 0\n",
    "\n",
    "numbers = [1, 3, 2, -5, 0, 0]\n",
    "\n",
    "count_predicate(is_even, numbers)"
   ]
  },
  {
   "cell_type": "markdown",
   "metadata": {
    "slideshow": {
     "slide_type": "subslide"
    }
   },
   "source": [
    "#### 2. instance of a class that implements `__call__` (functor)"
   ]
  },
  {
   "cell_type": "code",
   "execution_count": null,
   "metadata": {},
   "outputs": [],
   "source": [
    "class IsEven(object):\n",
    "    def __call__(self, number):\n",
    "        return number % 2 == 0\n",
    "    \n",
    "print(count_predicate(IsEven(), numbers))\n",
    "\n",
    "IsEven()(123)\n",
    "i = IsEven()\n",
    "i(11)"
   ]
  },
  {
   "cell_type": "markdown",
   "metadata": {
    "slideshow": {
     "slide_type": "fragment"
    }
   },
   "source": [
    "#### 3. lambda expression"
   ]
  },
  {
   "cell_type": "code",
   "execution_count": null,
   "metadata": {},
   "outputs": [],
   "source": [
    "count_predicate(lambda x: x % 2 == 0, numbers)"
   ]
  },
  {
   "cell_type": "markdown",
   "metadata": {
    "slideshow": {
     "slide_type": "slide"
    }
   },
   "source": [
    "## Functions can be nested"
   ]
  },
  {
   "cell_type": "code",
   "execution_count": null,
   "metadata": {},
   "outputs": [],
   "source": [
    "def parent():\n",
    "    print(\"I'm the parent function\")\n",
    "    \n",
    "    def child():\n",
    "        print(\"I'm the child function\")\n",
    "        \n",
    "parent()"
   ]
  },
  {
   "cell_type": "markdown",
   "metadata": {
    "slideshow": {
     "slide_type": "subslide"
    }
   },
   "source": [
    "the nested function is only accessible from the parent"
   ]
  },
  {
   "cell_type": "code",
   "execution_count": null,
   "metadata": {},
   "outputs": [],
   "source": [
    "def parent():\n",
    "    print(\"I'm the parent function\")\n",
    "    \n",
    "    def child():\n",
    "        print(\"I'm the child function\")\n",
    "    \n",
    "    print(\"Calling the nested function\")\n",
    "    child()\n",
    "        \n",
    "parent()\n",
    "# parent.child  # raises AttributeError"
   ]
  },
  {
   "cell_type": "markdown",
   "metadata": {
    "slideshow": {
     "slide_type": "slide"
    }
   },
   "source": [
    "## Functions can be return values"
   ]
  },
  {
   "cell_type": "code",
   "execution_count": null,
   "metadata": {},
   "outputs": [],
   "source": [
    "def parent():\n",
    "    print(\"I'm the parent function\")\n",
    "    \n",
    "    def child():\n",
    "        print(\"I'm the child function\")\n",
    "        \n",
    "    return child\n",
    "\n",
    "child_func = parent()\n",
    "\n",
    "print(\"Calling child\")\n",
    "child_func()\n",
    "\n",
    "\n",
    "print(\"\\nUsing parent's return value right away\")\n",
    "parent()()"
   ]
  },
  {
   "cell_type": "markdown",
   "metadata": {
    "slideshow": {
     "slide_type": "slide"
    }
   },
   "source": [
    "## Closure: nested functions have access to the parent's scope"
   ]
  },
  {
   "cell_type": "code",
   "execution_count": null,
   "metadata": {},
   "outputs": [],
   "source": [
    "def parent(value):\n",
    "    \n",
    "    def child():\n",
    "        print(\"I'm the nested function. \"\n",
    "              \"The parent's value is {}\".format(value))\n",
    "        \n",
    "    return child\n",
    "        \n",
    "child_func = parent(42)\n",
    "\n",
    "print(\"Calling child_func\")\n",
    "child_func()"
   ]
  },
  {
   "cell_type": "code",
   "execution_count": null,
   "metadata": {},
   "outputs": [],
   "source": [
    "f1 = parent(\"abc\")\n",
    "f2 = parent(123)\n",
    "\n",
    "f1()\n",
    "f2()\n",
    "\n",
    "f1 is f2"
   ]
  },
  {
   "cell_type": "markdown",
   "metadata": {
    "slideshow": {
     "slide_type": "slide"
    }
   },
   "source": [
    "## Function factory"
   ]
  },
  {
   "cell_type": "code",
   "execution_count": null,
   "metadata": {},
   "outputs": [],
   "source": [
    "def make_func(param):\n",
    "    value = param\n",
    "    \n",
    "    def func():\n",
    "        print(\"I'm the nested function. \"\n",
    "              \"The parent's value is {}\".format(value))\n",
    "        \n",
    "    return func\n",
    "\n",
    "func_11 = make_func(11)\n",
    "func_abc = make_func(\"abc\")\n",
    "\n",
    "func_11()\n",
    "func_abc()"
   ]
  },
  {
   "cell_type": "markdown",
   "metadata": {
    "slideshow": {
     "slide_type": "slide"
    }
   },
   "source": [
    "## Wrapper function factory\n",
    "\n",
    "- let's create a function that takes a function return an almost identical function\n",
    "- the returned function adds some logging"
   ]
  },
  {
   "cell_type": "code",
   "execution_count": null,
   "metadata": {},
   "outputs": [],
   "source": [
    "def add_noise(func):\n",
    "    \n",
    "    def wrapped_with_noise():\n",
    "        print(\"Calling function {}\".format(func.__name__))\n",
    "        func()\n",
    "        print(\"{} finished.\".format(func.__name__))\n",
    "        \n",
    "    return wrapped_with_noise"
   ]
  },
  {
   "cell_type": "markdown",
   "metadata": {
    "slideshow": {
     "slide_type": "subslide"
    }
   },
   "source": [
    "### Wrapping a function\n",
    "\n",
    "The function we are going to wrap:"
   ]
  },
  {
   "cell_type": "code",
   "execution_count": null,
   "metadata": {
    "slideshow": {
     "slide_type": "-"
    }
   },
   "outputs": [],
   "source": [
    "def noiseless_function():\n",
    "    print(\"This is not noise\")\n",
    "    \n",
    "noiseless_function()"
   ]
  },
  {
   "cell_type": "markdown",
   "metadata": {
    "slideshow": {
     "slide_type": "fragment"
    }
   },
   "source": [
    "#### now add some noise"
   ]
  },
  {
   "cell_type": "code",
   "execution_count": null,
   "metadata": {},
   "outputs": [],
   "source": [
    "noisy_function = add_noise(noiseless_function)\n",
    "\n",
    "noisy_function()"
   ]
  },
  {
   "cell_type": "markdown",
   "metadata": {
    "slideshow": {
     "slide_type": "subslide"
    }
   },
   "source": [
    "#### Bound the original reference to the wrapped function\n",
    "\n",
    "- i.e. `greeter` should refer to the wrapped function\n",
    "- we don't need the original function"
   ]
  },
  {
   "cell_type": "code",
   "execution_count": null,
   "metadata": {},
   "outputs": [],
   "source": [
    "def greeter():\n",
    "    print(\"Hello\")\n",
    "    \n",
    "print(id(greeter))\n",
    "   \n",
    "greeter = add_noise(greeter)\n",
    "greeter()\n",
    "print(id(greeter))"
   ]
  },
  {
   "cell_type": "markdown",
   "metadata": {
    "slideshow": {
     "slide_type": "slide"
    }
   },
   "source": [
    "#### this turns out to be a frequent operation"
   ]
  },
  {
   "cell_type": "code",
   "execution_count": null,
   "metadata": {},
   "outputs": [],
   "source": [
    "def friendly_greeter():\n",
    "    print(\"Hello friend\")\n",
    "    \n",
    "def rude_greeter():\n",
    "    print(\"Hey you\")\n",
    "    \n",
    "friendly_greeter = add_noise(friendly_greeter)\n",
    "rude_greeter = add_noise(rude_greeter)\n",
    "friendly_greeter()\n",
    "\n",
    "rude_greeter()"
   ]
  },
  {
   "cell_type": "markdown",
   "metadata": {
    "slideshow": {
     "slide_type": "slide"
    }
   },
   "source": [
    "## Decorator syntax\n",
    "\n",
    "- a decorator is a function\n",
    "  - that takes a function as an argument\n",
    "  - returns a wrapped version of the function\n",
    "- the decorator syntax is just syntactic sugar (shorthand) for:\n",
    "\n",
    "```python\n",
    "func = decorator(func)\n",
    "```"
   ]
  },
  {
   "cell_type": "code",
   "execution_count": null,
   "metadata": {
    "slideshow": {
     "slide_type": "fragment"
    }
   },
   "outputs": [],
   "source": [
    "@add_noise\n",
    "def informal_greeter():\n",
    "    print(\"Yo\")\n",
    "    \n",
    "# same as:\n",
    "# informal_greeter = add_noise(informal_greeter)\n",
    "    \n",
    "informal_greeter()"
   ]
  },
  {
   "cell_type": "markdown",
   "metadata": {
    "slideshow": {
     "slide_type": "subslide"
    }
   },
   "source": [
    "### Pie syntax\n",
    "\n",
    "- introduced in [PEP318](https://www.python.org/dev/peps/pep-0318/) in Python 2.4\n",
    "- various syntax proposals were suggested, summarized [here](https://wiki.python.org/moin/PythonDecorators#A1._pie_decorator_syntax)"
   ]
  },
  {
   "cell_type": "markdown",
   "metadata": {
    "slideshow": {
     "slide_type": "slide"
    }
   },
   "source": [
    "# Problem 1. Function metadata is lost"
   ]
  },
  {
   "cell_type": "code",
   "execution_count": null,
   "metadata": {},
   "outputs": [],
   "source": [
    "informal_greeter.__name__"
   ]
  },
  {
   "cell_type": "markdown",
   "metadata": {
    "slideshow": {
     "slide_type": "subslide"
    }
   },
   "source": [
    "### Solution 1. Copy manually"
   ]
  },
  {
   "cell_type": "code",
   "execution_count": null,
   "metadata": {},
   "outputs": [],
   "source": [
    "def add_noise(func):\n",
    "    \n",
    "    def wrapped_with_noise():\n",
    "        print(\"Calling {}...\".format(func.__name__))\n",
    "        func()\n",
    "        print(\"{} finished.\".format(func.__name__))\n",
    "        \n",
    "    wrapped_with_noise.__name__ = func.__name__\n",
    "    return wrapped_with_noise\n",
    "\n",
    "@add_noise\n",
    "def greeter():\n",
    "    \"\"\"meaningful documentation\"\"\"\n",
    "    print(\"Hello\")\n",
    "    \n",
    "print(greeter.__name__)"
   ]
  },
  {
   "cell_type": "markdown",
   "metadata": {
    "slideshow": {
     "slide_type": "subslide"
    }
   },
   "source": [
    "What about other metadata such as the docstring?"
   ]
  },
  {
   "cell_type": "code",
   "execution_count": null,
   "metadata": {},
   "outputs": [],
   "source": [
    "print(greeter.__doc__)"
   ]
  },
  {
   "cell_type": "markdown",
   "metadata": {
    "slideshow": {
     "slide_type": "subslide"
    }
   },
   "source": [
    "### Solution 2. `functools.wraps`"
   ]
  },
  {
   "cell_type": "code",
   "execution_count": null,
   "metadata": {},
   "outputs": [],
   "source": [
    "from functools import wraps\n",
    "\n",
    "def add_noise(func):\n",
    "    \n",
    "    @wraps(func)\n",
    "    def wrapped_with_noise():\n",
    "        print(\"Calling {}...\".format(func.__name__))\n",
    "        func()\n",
    "        print(\"{} finished.\".format(func.__name__))\n",
    "        \n",
    "    return wrapped_with_noise\n",
    "\n",
    "@add_noise\n",
    "def greeter():\n",
    "    \"\"\"function that says hello\"\"\"\n",
    "    print(\"Hello\")\n",
    "    \n",
    "print(greeter.__name__)\n",
    "print(greeter.__doc__)"
   ]
  },
  {
   "cell_type": "markdown",
   "metadata": {
    "slideshow": {
     "slide_type": "slide"
    }
   },
   "source": [
    "## Problem 2. Function arguments\n",
    "\n",
    "- so far we have only decorated functions without parameters\n",
    "- to wrap arbitrary functions, we need to capture a variable number of arguments\n",
    "- remember `args` and `kwargs`"
   ]
  },
  {
   "cell_type": "code",
   "execution_count": null,
   "metadata": {
    "slideshow": {
     "slide_type": "fragment"
    }
   },
   "outputs": [],
   "source": [
    "def function_with_variable_arguments(*args, **kwargs):\n",
    "    print(args)\n",
    "    print(kwargs)\n",
    "    \n",
    "function_with_variable_arguments(1, \"apple\", tree=\"peach\", color=\"red\")"
   ]
  },
  {
   "cell_type": "markdown",
   "metadata": {
    "slideshow": {
     "slide_type": "subslide"
    }
   },
   "source": [
    "#### the same mechanism can be used in decorators"
   ]
  },
  {
   "cell_type": "code",
   "execution_count": null,
   "metadata": {},
   "outputs": [],
   "source": [
    "def add_noise(func):\n",
    "    \n",
    "    @wraps(func)\n",
    "    def wrapped_with_noise(*args, **kwargs):\n",
    "        print(\"Calling {}...\".format(func.__name__))\n",
    "        func(*args, **kwargs)\n",
    "        print(\"{} finished.\".format(func.__name__))\n",
    "        \n",
    "    return wrapped_with_noise"
   ]
  },
  {
   "cell_type": "markdown",
   "metadata": {
    "slideshow": {
     "slide_type": "fragment"
    }
   },
   "source": [
    "- the decorator has only one parameter: `func`, the function to wrap\n",
    "- the returned function (`wrapped_with_noise`) takes arbitrary parameters: `args`, `kwargs`\n",
    "- it calls `func`, the decorator's argument with arbitrary parameters"
   ]
  },
  {
   "cell_type": "code",
   "execution_count": null,
   "metadata": {
    "slideshow": {
     "slide_type": "subslide"
    }
   },
   "outputs": [],
   "source": [
    "@add_noise\n",
    "def personal_greeter(name):\n",
    "    print(\"Hello {}\".format(name))\n",
    "    \n",
    "personal_greeter(\"John\")\n",
    "personal_greeter(\"oli\")"
   ]
  },
  {
   "cell_type": "markdown",
   "metadata": {
    "slideshow": {
     "slide_type": "slide"
    }
   },
   "source": [
    "# Decorators can take parameters too\n",
    "\n",
    "- they have to return a decorator without parameters - decorator factory"
   ]
  },
  {
   "cell_type": "code",
   "execution_count": null,
   "metadata": {},
   "outputs": [],
   "source": [
    "def decorator_with_param(param1, param2=None):\n",
    "    \n",
    "    print(\"Creating a new decorator: {0}, {1}\".format(\n",
    "        param1, param2))\n",
    "    \n",
    "    def actual_decorator(func):\n",
    "        @wraps(func)\n",
    "        def wrapper(*args, **kwargs):\n",
    "            print(\"Wrapper function {}\".format(\n",
    "                func.__name__))\n",
    "            print(\"Params: {0}, {1}\".format(param1, param2))\n",
    "            return func(*args, **kwargs)\n",
    "        return wrapper\n",
    "    \n",
    "    return actual_decorator"
   ]
  },
  {
   "cell_type": "code",
   "execution_count": null,
   "metadata": {
    "slideshow": {
     "slide_type": "fragment"
    }
   },
   "outputs": [],
   "source": [
    "@decorator_with_param(42, \"abc\")\n",
    "def personal_greeter(name):\n",
    "    print(\"Hello {}\".format(name))\n",
    "    \n",
    "@decorator_with_param(4)\n",
    "def personal_greeter2(name):\n",
    "    print(\"Hello {}\".format(name))\n",
    "    \n",
    "print(\"\\nCalling personal_greeter\")\n",
    "personal_greeter(\"Mary\")\n",
    "\n",
    "print(\"\\nCalling personal_greeter2\")\n",
    "personal_greeter2(\"Harry\")"
   ]
  },
  {
   "cell_type": "code",
   "execution_count": null,
   "metadata": {},
   "outputs": [],
   "source": [
    "def hello(name):\n",
    "    print(\"Hello {}\".format(name))\n",
    "    \n",
    "hello = decorator_with_param(1, 2)(hello)\n",
    "hello(\"john\")"
   ]
  },
  {
   "cell_type": "markdown",
   "metadata": {
    "slideshow": {
     "slide_type": "slide"
    }
   },
   "source": [
    "# Decorators can be implemented as classes\n",
    "\n",
    "- `__call__` implements the wrapped function"
   ]
  },
  {
   "cell_type": "code",
   "execution_count": null,
   "metadata": {},
   "outputs": [],
   "source": [
    "class MyDecorator(object):\n",
    "    def __init__(self, func):\n",
    "        self.func_to_wrap = func\n",
    "        print(\"Function to wrap: {}\".format(func.__name__))\n",
    "        wraps(func)(self)\n",
    "        \n",
    "    def __call__(self, *args, **kwargs):\n",
    "        print(\"before func {}\".format(self.func_to_wrap.__name__))\n",
    "        res = self.func_to_wrap(*args, **kwargs)\n",
    "        print(\"after func {}\".format(self.func_to_wrap.__name__))\n",
    "        return res\n",
    "    \n",
    "@MyDecorator\n",
    "def foo():\n",
    "    print(\"bar\")\n",
    "\n",
    "print(\"\\nCalling foo\")\n",
    "foo()"
   ]
  },
  {
   "cell_type": "code",
   "execution_count": null,
   "metadata": {},
   "outputs": [],
   "source": [
    "@MyDecorator\n",
    "def bar(name):\n",
    "    print(\"Hi {}\".format(name))\n",
    "    \n",
    "bar(\"John\")"
   ]
  },
  {
   "cell_type": "markdown",
   "metadata": {
    "slideshow": {
     "slide_type": "slide"
    }
   },
   "source": [
    "# See also\n",
    "\n",
    "Decorator overview with some advanced techniques: https://www.youtube.com/watch?v=9oyr0mocZTg\n",
    "\n",
    "A very deep dive into decorators: https://www.youtube.com/watch?v=7jGtDGxgwEY"
   ]
  }
 ],
 "metadata": {
  "kernelspec": {
   "display_name": "Python 3",
   "language": "python",
   "name": "python3"
  },
  "language_info": {
   "codemirror_mode": {
    "name": "ipython",
    "version": 3
   },
   "file_extension": ".py",
   "mimetype": "text/x-python",
   "name": "python",
   "nbconvert_exporter": "python",
   "pygments_lexer": "ipython3",
   "version": "3.7.1"
  }
 },
 "nbformat": 4,
 "nbformat_minor": 2
}
